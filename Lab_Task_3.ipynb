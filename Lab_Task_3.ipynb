{
  "nbformat": 4,
  "nbformat_minor": 0,
  "metadata": {
    "colab": {
      "name": "Lab Task 3.ipynb",
      "provenance": []
    },
    "kernelspec": {
      "name": "python3",
      "display_name": "Python 3"
    }
  },
  "cells": [
    {
      "cell_type": "code",
      "metadata": {
        "colab": {
          "base_uri": "https://localhost:8080/"
        },
        "id": "haIIKQVtenOK",
        "outputId": "72d1bc30-7a5b-4e90-c282-28285b044750"
      },
      "source": [
        "data = []\n",
        "choice = 'random'\n",
        "\n",
        "def line():\n",
        "    print('---------x---------')\n",
        "\n",
        "def show_menu():\n",
        "    line()\n",
        "    print('Course Registration')\n",
        "    line()\n",
        "    print('1. Register a Course')\n",
        "    print('2. Unenroll from a Course')\n",
        "    print('3. Course List')\n",
        "    print('4. Done')\n",
        "    line()\n",
        "    choice = input('Enter your Choice: ')\n",
        "    return choice\n",
        "\n",
        "while choice != '4':\n",
        "    choice = show_menu()\n",
        "    if choice == '1':\n",
        "        course = input('Enter Course Code:  ')\n",
        "        data.append(course)\n",
        "        print('Course', course, 'added')\n",
        "    elif choice == '2':\n",
        "        course = input('Enter the Course Code to Unenroll: ')\n",
        "        if course in data:\n",
        "            data.remove(course)\n",
        "            print('Unenroll Successfull!')\n",
        "        else:\n",
        "            print('Could not find the Course', course)\n",
        "    elif choice == '3':\n",
        "        print('List of Courses: ')\n",
        "        for course in data:\n",
        "            print(course)\n",
        "    elif choice == '4':\n",
        "        print('Registration Complete!')\n",
        "    else:\n",
        "        print('Wrong Choice! Try Again.')\n"
      ],
      "execution_count": null,
      "outputs": [
        {
          "output_type": "stream",
          "text": [
            "---------x---------\n",
            "Course Registration\n",
            "---------x---------\n",
            "1. Register a Course\n",
            "2. Unenroll from a Course\n",
            "3. Course List\n",
            "4. Done\n",
            "---------x---------\n"
          ],
          "name": "stdout"
        }
      ]
    }
  ]
}